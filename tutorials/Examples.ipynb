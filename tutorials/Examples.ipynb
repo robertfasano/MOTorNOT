{
 "cells": [
  {
   "cell_type": "code",
   "execution_count": null,
   "metadata": {},
   "outputs": [],
   "source": [
    "from MOTorNOT.coils import *\n",
    "from MOTorNOT.beams import *\n",
    "from MOTorNOT.mot import *\n",
    "from MOTorNOT.integration import Solver, generate_initial_conditions\n",
    "\n",
    "from tqdm import tqdm_notebook as tqdm\n",
    "import numpy as np\n",
    "linewidth = 2*np.pi*29e6\n"
   ]
  },
  {
   "cell_type": "markdown",
   "metadata": {},
   "source": [
    "# Slowing beam\n",
    "We study a single beam oriented in the $x$ direction, passing through a set of coils oriented in the $z$ direction:"
   ]
  },
  {
   "cell_type": "code",
   "execution_count": null,
   "metadata": {},
   "outputs": [],
   "source": [
    "beam = UniformBeam(direction=[-1, 0, 0], power=10e-3, radius=5e-3, detuning=-4*linewidth, handedness=1)\n",
    "coils = QuadrupoleCoils(radius=0.1, offset=0.1, turns=50, current=50, axis=2)\n",
    "\n",
    "mot = MOT([beam], coils.field)\n",
    "mot.plot(limits=[(-200e-3, 200e-3), (-10e-3, 10e-3)])"
   ]
  },
  {
   "cell_type": "markdown",
   "metadata": {},
   "source": [
    "Let's initialize an atom in the beam and track its motion:"
   ]
  },
  {
   "cell_type": "code",
   "execution_count": null,
   "metadata": {},
   "outputs": [],
   "source": [
    "X0 = [[-0.3, 0, 0]]\n",
    "V0 = [[75, 0, 0]]\n",
    "\n",
    "sol = Solver(mot.acceleration, X0, V0).run(1e-2, dt=1e-5)\n",
    "sol.get_particle(0)['x'].plot()"
   ]
  },
  {
   "cell_type": "markdown",
   "metadata": {},
   "source": [
    "Now let's examine the effectiveness of the slowing for different velocity classes:"
   ]
  },
  {
   "cell_type": "code",
   "execution_count": null,
   "metadata": {},
   "outputs": [],
   "source": [
    "X0, V0 = generate_initial_conditions(-0.3, np.linspace(1, 80, 100), phi=90, theta=90)\n",
    "\n",
    "sol = Solver(mot.acceleration, X0, V0).run(1e-2, dt=1e-5)\n",
    "sol.phase_plot()"
   ]
  },
  {
   "cell_type": "markdown",
   "metadata": {},
   "source": [
    "# 1D MOT\n",
    "Now let's add a counter-propagating beam to form a 1D MOT at the origin:"
   ]
  },
  {
   "cell_type": "code",
   "execution_count": null,
   "metadata": {},
   "outputs": [],
   "source": [
    "mot.beams.append(UniformBeam(direction=[1, 0, 0], power=10e-3, radius=5e-3, detuning=-4*linewidth, handedness=1))\n",
    "mot.plot()"
   ]
  },
  {
   "cell_type": "markdown",
   "metadata": {},
   "source": [
    "Now when we simulate trajectories, atoms within the capture velocity range will be trapped:"
   ]
  },
  {
   "cell_type": "code",
   "execution_count": null,
   "metadata": {},
   "outputs": [],
   "source": [
    "X0, V0 = generate_initial_conditions(-0.3, np.linspace(1, 90, 100), phi=90, theta=90)\n",
    "\n",
    "sol = Solver(mot.acceleration, X0, V0).run(15e-2, dt=1e-4)\n",
    "sol.phase_plot()"
   ]
  },
  {
   "cell_type": "markdown",
   "metadata": {},
   "source": [
    "The capture velocity can be estimated by finding the maximum velocity of the set of atoms within some distance of the phase-space origin at the end of the simulation:"
   ]
  },
  {
   "cell_type": "code",
   "execution_count": null,
   "metadata": {},
   "outputs": [],
   "source": [
    "sol.capture_velocity(rmax=1e-3, vmax=1e-3)"
   ]
  },
  {
   "cell_type": "markdown",
   "metadata": {},
   "source": [
    "Often we want to optimize capture velocity by varying parameters like the detuning. Let's run a sweep of MOTs with different detunings and analyze the resulting capture velocity:"
   ]
  },
  {
   "cell_type": "code",
   "execution_count": null,
   "metadata": {},
   "outputs": [],
   "source": [
    "def measure_capture_velocity(detuning):\n",
    "    beam1 = Beam(direction=[-1, 0, 0], power=10e-3, radius=5e-3, detuning=detuning, handedness=1)\n",
    "    beam2 = Beam(direction=[1, 0, 0], power=10e-3, radius=5e-3, detuning=detuning, handedness=1)\n",
    "    coils = QuadrupoleCoils(radius=0.1, offset=0.1, turns=50, current=50, axis=2)\n",
    "    mot = Beams([beam1, beam2], coils.field)\n",
    "    \n",
    "    X0, V0 = generate_initial_conditions(-0.3, np.linspace(1, 90, 100), phi=90, theta=90)\n",
    "    sol = Solver(mot.acceleration, X0, V0).run(5e-2, dt=1e-4)\n",
    "    \n",
    "    return sol.capture_velocity(rmax=10e-3, vmax=10e-3)\n",
    "\n",
    "linewidth = 2*np.pi*atom['gamma']\n",
    "detunings = np.arange(-4, 0, 0.5)\n",
    "vc = []\n",
    "\n",
    "for delta in tqdm(detunings):\n",
    "    vc = np.append(vc, measure_capture_velocity(delta*linewidth))\n",
    "    \n",
    "import matplotlib.pyplot as plt\n",
    "plt.plot(detunings, vc)"
   ]
  },
  {
   "cell_type": "markdown",
   "metadata": {},
   "source": [
    "# Six-beam MOT\n",
    "We can easily construct a 3D MOT using the SixBeamMOT convenience function:"
   ]
  },
  {
   "cell_type": "code",
   "execution_count": null,
   "metadata": {},
   "outputs": [],
   "source": [
    "mot = SixBeam(power=10e-3, radius=5e-3, detuning=-linewidth/2, handedness=1, field=coils.field)\n",
    "mot.plot()"
   ]
  },
  {
   "cell_type": "markdown",
   "metadata": {},
   "source": [
    "In realistic experiments, atoms will typically enter between two beams. Let's set up a simulation:"
   ]
  },
  {
   "cell_type": "code",
   "execution_count": null,
   "metadata": {},
   "outputs": [],
   "source": [
    "X0, V0 = generate_initial_conditions(-10e-3, np.linspace(1, 30, 100), phi=45, theta=90)\n",
    "\n",
    "sol = Solver(mot.acceleration, X0, V0).run(10e-2, dt=1e-5)\n",
    "sol.phase_plot(trapped_only=True)"
   ]
  },
  {
   "cell_type": "markdown",
   "metadata": {},
   "source": [
    "Now let's calculate the optimal detuning for this case:"
   ]
  },
  {
   "cell_type": "code",
   "execution_count": null,
   "metadata": {},
   "outputs": [],
   "source": [
    "def measure_capture_velocity(detuning):\n",
    "    coils = QuadrupoleCoils(radius=0.1, offset=0.1, turns=50, current=50, axis=2)\n",
    "    mot = SixBeamMOT(power=10e-3, radius=5e-3, detuning=detuning, handedness=1, field=coils.field)\n",
    "    \n",
    "    X0, V0 = generate_initial_conditions(-0.3, np.linspace(1, 50, 100), phi=90, theta=90)\n",
    "    sol = Solver(mot.acceleration, X0, V0).run(100e-2, dt=1e-3)\n",
    "    \n",
    "    return sol.capture_velocity()\n",
    "\n",
    "linewidth = 2*np.pi*atom['gamma']\n",
    "detunings = np.arange(-4, 0, 0.1)\n",
    "vc = []\n",
    "\n",
    "for delta in tqdm(detunings):\n",
    "    vc = np.append(vc, measure_capture_velocity(delta*linewidth))\n",
    "    \n",
    "import matplotlib.pyplot as plt\n",
    "plt.plot(detunings, vc)"
   ]
  },
  {
   "cell_type": "markdown",
   "metadata": {},
   "source": [
    "# Grating MOTs\n",
    "The gratingMOT convenience class lets you construct gMOTs with arbitrary parameters:"
   ]
  },
  {
   "cell_type": "code",
   "execution_count": null,
   "metadata": {},
   "outputs": [],
   "source": [
    "from MOTorNOT.gmot import gratingMOT\n",
    "\n",
    "gmot = gratingMOT(position = 3e-3, \n",
    "                  alpha = 45, \n",
    "                  detuning = -linewidth/2, \n",
    "                  radius = 8e-3, \n",
    "                  power = 20e-3, \n",
    "                  handedness = -1, \n",
    "                  R1 = 0.33, \n",
    "                  field = coils.field)\n",
    "gmot.plot('xz', limits=[(-15e-3, 15e-3), (-3e-3, 10e-3)], numpoints=80)"
   ]
  }
 ],
 "metadata": {
  "kernelspec": {
   "display_name": "Python 3",
   "language": "python",
   "name": "python3"
  },
  "language_info": {
   "codemirror_mode": {
    "name": "ipython",
    "version": 3
   },
   "file_extension": ".py",
   "mimetype": "text/x-python",
   "name": "python",
   "nbconvert_exporter": "python",
   "pygments_lexer": "ipython3",
   "version": "3.6.6"
  },
  "toc": {
   "base_numbering": 1,
   "nav_menu": {},
   "number_sections": true,
   "sideBar": true,
   "skip_h1_title": false,
   "title_cell": "Table of Contents",
   "title_sidebar": "Contents",
   "toc_cell": false,
   "toc_position": {},
   "toc_section_display": true,
   "toc_window_display": true
  }
 },
 "nbformat": 4,
 "nbformat_minor": 2
}
